{
 "cells": [
  {
   "cell_type": "markdown",
   "id": "f76e8f95",
   "metadata": {},
   "source": [
    "# Analysis for Symbolic Algebra MVP RL Experiment\n",
    "\n",
    "This notebook analyzes the results of the Symbolic Algebra MVP RL experiment. It includes:\n",
    "- Learning curves (success rate vs. episodes)\n",
    "- Loss curves (policy, forward, inverse)\n",
    "- Average steps-to-solve\n",
    "- Latent space projections (PCA/UMAP)\n",
    "- Example symbolic feedback vectors"
   ]
  },
  {
   "cell_type": "code",
   "execution_count": null,
   "id": "11196a58",
   "metadata": {},
   "outputs": [],
   "source": [
    "# Import libraries\n",
    "from pathlib import Path\n",
    "\n",
    "import matplotlib.pyplot as plt\n",
    "import numpy as np\n",
    "import pandas as pd\n",
    "import seaborn as sns"
   ]
  },
  {
   "cell_type": "markdown",
   "id": "c94886a3",
   "metadata": {},
   "source": [
    "## Load Experiment Logs\n",
    "\n",
    "Assume logs are saved as CSV or JSONL in the experiment folder. Adjust the path as needed."
   ]
  },
  {
   "cell_type": "code",
   "execution_count": null,
   "id": "9a5c92e2",
   "metadata": {},
   "outputs": [],
   "source": [
    "# Example: Load episode logs (replace with your actual log file)\n",
    "log_path = Path(\"logs/algebra_mvp_episode_log.csv\")\n",
    "if log_path.exists():\n",
    "    df = pd.read_csv(log_path)\n",
    "else:\n",
    "    # Demo data for illustration\n",
    "    df = pd.DataFrame(\n",
    "        {\n",
    "            \"episode\": np.arange(1, 101),\n",
    "            \"solved\": np.random.binomial(1, 0.7, 100),\n",
    "            \"steps\": np.random.randint(2, 8, 100),\n",
    "            \"policy_loss\": np.random.uniform(0.2, 1.0, 100),\n",
    "            \"forward_loss\": np.random.uniform(0.1, 0.5, 100),\n",
    "            \"inverse_loss\": np.random.uniform(0.1, 0.5, 100),\n",
    "            \"degree\": np.random.randint(1, 3, 100),\n",
    "            \"num_terms\": np.random.randint(2, 5, 100),\n",
    "        }\n",
    "    )"
   ]
  },
  {
   "cell_type": "markdown",
   "id": "50aaa6ec",
   "metadata": {},
   "source": [
    "## Learning Curve: Success Rate vs. Episodes"
   ]
  },
  {
   "cell_type": "code",
   "execution_count": null,
   "id": "5b8a26c6",
   "metadata": {},
   "outputs": [],
   "source": [
    "window = 10\n",
    "success_rate = df[\"solved\"].rolling(window).mean()\n",
    "plt.figure(figsize=(8, 4))\n",
    "plt.plot(df[\"episode\"], success_rate, label=f\"Success Rate (window={window})\")\n",
    "plt.xlabel(\"Episode\")\n",
    "plt.ylabel(\"Success Rate\")\n",
    "plt.title(\"Learning Curve: Success Rate vs. Episodes\")\n",
    "plt.legend()\n",
    "plt.show()"
   ]
  },
  {
   "cell_type": "markdown",
   "id": "a6000c7d",
   "metadata": {},
   "source": [
    "## Average Steps-to-Solve"
   ]
  },
  {
   "cell_type": "code",
   "execution_count": null,
   "id": "8dae792e",
   "metadata": {},
   "outputs": [],
   "source": [
    "plt.figure(figsize=(8, 4))\n",
    "plt.plot(df[\"episode\"], df[\"steps\"], label=\"Steps to Solve\")\n",
    "plt.xlabel(\"Episode\")\n",
    "plt.ylabel(\"Steps\")\n",
    "plt.title(\"Steps-to-Solve per Episode\")\n",
    "plt.legend()\n",
    "plt.show()"
   ]
  },
  {
   "cell_type": "markdown",
   "id": "e0a3f5c6",
   "metadata": {},
   "source": [
    "## Loss Curves (Policy, Forward, Inverse)"
   ]
  },
  {
   "cell_type": "code",
   "execution_count": null,
   "id": "4738a103",
   "metadata": {},
   "outputs": [],
   "source": [
    "plt.figure(figsize=(10, 5))\n",
    "plt.plot(df[\"episode\"], df[\"policy_loss\"], label=\"Policy Loss\")\n",
    "plt.plot(df[\"episode\"], df[\"forward_loss\"], label=\"Forward Loss\")\n",
    "plt.plot(df[\"episode\"], df[\"inverse_loss\"], label=\"Inverse Loss\")\n",
    "plt.xlabel(\"Episode\")\n",
    "plt.ylabel(\"Loss\")\n",
    "plt.title(\"Loss Curves\")\n",
    "plt.legend()\n",
    "plt.show()"
   ]
  },
  {
   "cell_type": "markdown",
   "id": "f58a96ad",
   "metadata": {},
   "source": [
    "## Latent Space Visualization (PCA/UMAP)\n",
    "\n",
    "Assume latent vectors are saved in the logs as columns or in a separate file."
   ]
  },
  {
   "cell_type": "code",
   "execution_count": null,
   "id": "a12a6f87",
   "metadata": {},
   "outputs": [],
   "source": [
    "# Demo: Generate random latent vectors for illustration\n",
    "from sklearn.decomposition import PCA\n",
    "\n",
    "latent_dim = 8\n",
    "if \"latent_0\" in df.columns:\n",
    "    latent = df[[f\"latent_{i}\" for i in range(latent_dim)]].values\n",
    "else:\n",
    "    latent = np.random.randn(len(df), latent_dim)\n",
    "pca = PCA(n_components=2)\n",
    "proj = pca.fit_transform(latent)\n",
    "plt.figure(figsize=(6, 6))\n",
    "plt.scatter(proj[:, 0], proj[:, 1], c=df[\"solved\"], cmap=\"coolwarm\", alpha=0.7)\n",
    "plt.xlabel(\"PC1\")\n",
    "plt.ylabel(\"PC2\")\n",
    "plt.title(\"Latent Space Projection (PCA)\")\n",
    "plt.colorbar(label=\"Solved\")\n",
    "plt.show()"
   ]
  },
  {
   "cell_type": "code",
   "execution_count": null,
   "id": "a639f332",
   "metadata": {},
   "outputs": [],
   "source": [
    "# UMAP visualization (advanced)\n",
    "try:\n",
    "    import umap\n",
    "\n",
    "    reducer = umap.UMAP(n_components=2, random_state=42)\n",
    "    umap_proj = reducer.fit_transform(latent)\n",
    "    plt.figure(figsize=(6, 6))\n",
    "    plt.scatter(\n",
    "        umap_proj[:, 0], umap_proj[:, 1], c=df[\"solved\"], cmap=\"coolwarm\", alpha=0.7\n",
    "    )\n",
    "    plt.xlabel(\"UMAP-1\")\n",
    "    plt.ylabel(\"UMAP-2\")\n",
    "    plt.title(\"Latent Space Projection (UMAP)\")\n",
    "    plt.colorbar(label=\"Solved\")\n",
    "    plt.show()\n",
    "except ImportError:\n",
    "    print(\n",
    "        \"UMAP is not installed. Run `pip install umap-learn` to enable UMAP visualizations.\"\n",
    "    )"
   ]
  },
  {
   "cell_type": "markdown",
   "id": "01dfadf1",
   "metadata": {},
   "source": [
    "## Advanced Visualizations: Feedback Evolution and Action Statistics"
   ]
  },
  {
   "cell_type": "code",
   "execution_count": null,
   "id": "7e4fdf9f",
   "metadata": {},
   "outputs": [],
   "source": [
    "# Plot feedback evolution (e.g., degree, num_terms) over episodes\n",
    "plt.figure(figsize=(8, 4))\n",
    "plt.plot(df[\"episode\"], df[\"degree\"], label=\"Degree\")\n",
    "plt.plot(df[\"episode\"], df[\"num_terms\"], label=\"Num Terms\")\n",
    "plt.xlabel(\"Episode\")\n",
    "plt.ylabel(\"Value\")\n",
    "plt.title(\"Symbolic Feedback Evolution\")\n",
    "plt.legend()\n",
    "plt.show()"
   ]
  },
  {
   "cell_type": "code",
   "execution_count": null,
   "id": "4e899e21",
   "metadata": {},
   "outputs": [],
   "source": [
    "# If action statistics are logged (e.g., action_id column), plot action distribution\n",
    "if \"action_id\" in df.columns:\n",
    "    plt.figure(figsize=(8, 4))\n",
    "    sns.countplot(x=\"action_id\", data=df)\n",
    "    plt.title(\"Action Distribution\")\n",
    "    plt.xlabel(\"Action ID\")\n",
    "    plt.ylabel(\"Count\")\n",
    "    plt.show()"
   ]
  },
  {
   "cell_type": "markdown",
   "id": "396b597b",
   "metadata": {},
   "source": [
    "## Example Symbolic Feedback Vectors"
   ]
  },
  {
   "cell_type": "code",
   "execution_count": null,
   "id": "37681fbc",
   "metadata": {},
   "outputs": [],
   "source": [
    "# Show a few feedback vectors (degree, num_terms, etc.)\n",
    "df[[\"episode\", \"degree\", \"num_terms\"]].head(10)"
   ]
  }
 ],
 "metadata": {
  "language_info": {
   "name": "python"
  }
 },
 "nbformat": 4,
 "nbformat_minor": 5
}
